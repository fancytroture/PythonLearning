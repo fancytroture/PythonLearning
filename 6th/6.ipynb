{
 "cells": [
  {
   "cell_type": "markdown",
   "metadata": {},
   "source": [
    "# 6_1"
   ]
  },
  {
   "cell_type": "code",
   "execution_count": 1,
   "metadata": {},
   "outputs": [
    {
     "name": "stdout",
     "output_type": "stream",
     "text": [
      "green\n",
      "5\n"
     ]
    }
   ],
   "source": [
    "alien_0 = {'color': 'green', 'points': 5}\n",
    "print(alien_0['color'])\n",
    "print(alien_0['points'])"
   ]
  },
  {
   "cell_type": "markdown",
   "metadata": {},
   "source": [
    "# 6_2"
   ]
  },
  {
   "cell_type": "code",
   "execution_count": 2,
   "metadata": {},
   "outputs": [
    {
     "name": "stdout",
     "output_type": "stream",
     "text": [
      "You have got the 5 points\n"
     ]
    }
   ],
   "source": [
    "alien_0 = {'color': 'green', 'points': 5}\n",
    "new_points = alien_0['points']\n",
    "print(f\"You have got the {new_points} points\")"
   ]
  },
  {
   "cell_type": "code",
   "execution_count": 4,
   "metadata": {},
   "outputs": [
    {
     "name": "stdout",
     "output_type": "stream",
     "text": [
      "{'color': 'green', 'points': 5, 'x_position': 25, 'y_position': 25}\n"
     ]
    }
   ],
   "source": [
    "alien_0 = {'color': 'green', 'points': 5}\n",
    "alien_0['x_position'] = 25\n",
    "alien_0['y_position'] = 25\n",
    "print(alien_0)"
   ]
  },
  {
   "cell_type": "code",
   "execution_count": 6,
   "metadata": {},
   "outputs": [
    {
     "name": "stdout",
     "output_type": "stream",
     "text": [
      "{'color': 'green', 'points': 5}\n"
     ]
    }
   ],
   "source": [
    "#create a dictionary\n",
    "alien_0 = {}\n",
    "alien_0['color'] = 'green'\n",
    "alien_0['points'] = 5\n",
    "print(alien_0)\n"
   ]
  },
  {
   "cell_type": "code",
   "execution_count": 7,
   "metadata": {},
   "outputs": [
    {
     "name": "stdout",
     "output_type": "stream",
     "text": [
      "{'color': 'green', 'points': 5}\n",
      "{'color': 'yellow', 'points': 5}\n"
     ]
    }
   ],
   "source": [
    "alien_0 = {'color': 'green', 'points': 5}\n",
    "print(alien_0)\n",
    "alien_0['color'] = 'yellow'\n",
    "print(alien_0)"
   ]
  },
  {
   "cell_type": "code",
   "execution_count": 9,
   "metadata": {},
   "outputs": [
    {
     "name": "stdout",
     "output_type": "stream",
     "text": [
      "Original position is 0\n",
      "1\n",
      "{'color': 'yelloe', 'points': 5, 'speed': 'slow', 'x_position': 1, 'y_position': 25}\n"
     ]
    }
   ],
   "source": [
    "alien_0 = {'color': 'yelloe', 'points': 5, 'speed': 'slow', 'x_position': 0, 'y_position': 25}\n",
    "print(f\"Original position is {alien_0['x_position']}\")\n",
    "if alien_0['speed'] == 'slow':\n",
    "    shift = 1\n",
    "elif alien_0['speed'] == 'medium':\n",
    "    shift = 2\n",
    "else:\n",
    "    shift = 3\n",
    "now_position = alien_0['x_position'] + shift\n",
    "print(now_position)\n",
    "alien_0['x_position'] = now_position\n",
    "print(alien_0)"
   ]
  },
  {
   "cell_type": "code",
   "execution_count": 11,
   "metadata": {},
   "outputs": [
    {
     "name": "stdout",
     "output_type": "stream",
     "text": [
      "{'color': 'green', 'points': 5}\n",
      "{'points': 5}\n",
      "{'points': 5, 'color': 'yellow'}\n"
     ]
    }
   ],
   "source": [
    "# delete\n",
    "alien_0 = {'color': 'green', 'points': 5} \n",
    "print(alien_0)\n",
    "del alien_0['color']\n",
    "print(alien_0)\n",
    "alien_0['color'] = 'yellow'\n",
    "print(alien_0)"
   ]
  },
  {
   "cell_type": "code",
   "execution_count": 13,
   "metadata": {},
   "outputs": [
    {
     "name": "stdout",
     "output_type": "stream",
     "text": [
      "yp loves Java most!\n"
     ]
    }
   ],
   "source": [
    "# favorite language\n",
    "languages = {\n",
    "    'curry': 'python',\n",
    "    'dutant': 'c',\n",
    "    'james': 'julia',\n",
    "    'yp': 'java',\n",
    "    }\n",
    "language = languages['yp'].title()\n",
    "print(f'yp loves {language} most!')"
   ]
  },
  {
   "cell_type": "code",
   "execution_count": 15,
   "metadata": {},
   "outputs": [
    {
     "name": "stdout",
     "output_type": "stream",
     "text": [
      "None\n"
     ]
    }
   ],
   "source": [
    "# get function\n",
    "alien_0 = {'color': 'green', 'speed': 'slow'}  \n",
    "point_value = alien_0.get('points') \n",
    "print(point_value)"
   ]
  },
  {
   "cell_type": "markdown",
   "metadata": {},
   "source": [
    "# 6_2 Practice"
   ]
  },
  {
   "cell_type": "code",
   "execution_count": 16,
   "metadata": {},
   "outputs": [
    {
     "name": "stdout",
     "output_type": "stream",
     "text": [
      "xuezhen\n",
      "cai\n",
      "22\n",
      "HKUST(gz)\n",
      "guangzhou\n"
     ]
    }
   ],
   "source": [
    "#1\n",
    "cxz = {\n",
    "    'first_name': 'xuezhen',\n",
    "    'last_name': 'cai',\n",
    "    'age': 22,\n",
    "    'school': 'HKUST(gz)',\n",
    "    'city': 'guangzhou'\n",
    "    }\n",
    "print(cxz['first_name'])\n",
    "print(cxz['last_name'])\n",
    "print(cxz['age'])\n",
    "print(cxz['school'])\n",
    "print(cxz['city'])\n"
   ]
  },
  {
   "cell_type": "code",
   "execution_count": null,
   "metadata": {},
   "outputs": [],
   "source": [
    "#2\n",
    "numbers = {\n",
    "    'cxz': 2,\n",
    "    'zx': 1,\n",
    "    'hyz': 3,\n",
    "    'sjb': 4,\n",
    "    }\n",
    "print(f\"cxz's favourite number is {numbers['cxz']}.\")\n",
    "print(f\"zx's favourite number is {numbers['zx']}.\")\n",
    "print(f\"hyz's favourite number is {numbers['hyz']}.\")\n",
    "print(f\"sjb's favourite number is {numbers['sjb']}.\")\n",
    "\n",
    "\n",
    "\n"
   ]
  }
 ],
 "metadata": {
  "kernelspec": {
   "display_name": "env",
   "language": "python",
   "name": "python3"
  },
  "language_info": {
   "codemirror_mode": {
    "name": "ipython",
    "version": 3
   },
   "file_extension": ".py",
   "mimetype": "text/x-python",
   "name": "python",
   "nbconvert_exporter": "python",
   "pygments_lexer": "ipython3",
   "version": "3.13.4"
  }
 },
 "nbformat": 4,
 "nbformat_minor": 2
}

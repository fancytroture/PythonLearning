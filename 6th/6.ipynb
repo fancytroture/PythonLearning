{
 "cells": [
  {
   "cell_type": "markdown",
   "metadata": {},
   "source": [
    "# 6_1"
   ]
  },
  {
   "cell_type": "code",
   "execution_count": 1,
   "metadata": {},
   "outputs": [
    {
     "name": "stdout",
     "output_type": "stream",
     "text": [
      "green\n",
      "5\n"
     ]
    }
   ],
   "source": [
    "alien_0 = {'color': 'green', 'points': 5}\n",
    "print(alien_0['color'])\n",
    "print(alien_0['points'])"
   ]
  },
  {
   "cell_type": "markdown",
   "metadata": {},
   "source": [
    "# 6_2"
   ]
  },
  {
   "cell_type": "code",
   "execution_count": 2,
   "metadata": {},
   "outputs": [
    {
     "name": "stdout",
     "output_type": "stream",
     "text": [
      "You have got the 5 points\n"
     ]
    }
   ],
   "source": [
    "alien_0 = {'color': 'green', 'points': 5}\n",
    "new_points = alien_0['points']\n",
    "print(f\"You have got the {new_points} points\")"
   ]
  },
  {
   "cell_type": "code",
   "execution_count": 4,
   "metadata": {},
   "outputs": [
    {
     "name": "stdout",
     "output_type": "stream",
     "text": [
      "{'color': 'green', 'points': 5, 'x_position': 25, 'y_position': 25}\n"
     ]
    }
   ],
   "source": [
    "alien_0 = {'color': 'green', 'points': 5}\n",
    "alien_0['x_position'] = 25\n",
    "alien_0['y_position'] = 25\n",
    "print(alien_0)"
   ]
  },
  {
   "cell_type": "code",
   "execution_count": 6,
   "metadata": {},
   "outputs": [
    {
     "name": "stdout",
     "output_type": "stream",
     "text": [
      "{'color': 'green', 'points': 5}\n"
     ]
    }
   ],
   "source": [
    "#create a dictionary\n",
    "alien_0 = {}\n",
    "alien_0['color'] = 'green'\n",
    "alien_0['points'] = 5\n",
    "print(alien_0)\n"
   ]
  },
  {
   "cell_type": "code",
   "execution_count": 7,
   "metadata": {},
   "outputs": [
    {
     "name": "stdout",
     "output_type": "stream",
     "text": [
      "{'color': 'green', 'points': 5}\n",
      "{'color': 'yellow', 'points': 5}\n"
     ]
    }
   ],
   "source": [
    "alien_0 = {'color': 'green', 'points': 5}\n",
    "print(alien_0)\n",
    "alien_0['color'] = 'yellow'\n",
    "print(alien_0)"
   ]
  },
  {
   "cell_type": "code",
   "execution_count": 9,
   "metadata": {},
   "outputs": [
    {
     "name": "stdout",
     "output_type": "stream",
     "text": [
      "Original position is 0\n",
      "1\n",
      "{'color': 'yelloe', 'points': 5, 'speed': 'slow', 'x_position': 1, 'y_position': 25}\n"
     ]
    }
   ],
   "source": [
    "alien_0 = {'color': 'yelloe', 'points': 5, 'speed': 'slow', 'x_position': 0, 'y_position': 25}\n",
    "print(f\"Original position is {alien_0['x_position']}\")\n",
    "if alien_0['speed'] == 'slow':\n",
    "    shift = 1\n",
    "elif alien_0['speed'] == 'medium':\n",
    "    shift = 2\n",
    "else:\n",
    "    shift = 3\n",
    "now_position = alien_0['x_position'] + shift\n",
    "print(now_position)\n",
    "alien_0['x_position'] = now_position\n",
    "print(alien_0)"
   ]
  },
  {
   "cell_type": "code",
   "execution_count": 11,
   "metadata": {},
   "outputs": [
    {
     "name": "stdout",
     "output_type": "stream",
     "text": [
      "{'color': 'green', 'points': 5}\n",
      "{'points': 5}\n",
      "{'points': 5, 'color': 'yellow'}\n"
     ]
    }
   ],
   "source": [
    "# delete\n",
    "alien_0 = {'color': 'green', 'points': 5} \n",
    "print(alien_0)\n",
    "del alien_0['color']\n",
    "print(alien_0)\n",
    "alien_0['color'] = 'yellow'\n",
    "print(alien_0)"
   ]
  },
  {
   "cell_type": "code",
   "execution_count": 13,
   "metadata": {},
   "outputs": [
    {
     "name": "stdout",
     "output_type": "stream",
     "text": [
      "yp loves Java most!\n"
     ]
    }
   ],
   "source": [
    "# favorite language\n",
    "languages = {\n",
    "    'curry': 'python',\n",
    "    'dutant': 'c',\n",
    "    'james': 'julia',\n",
    "    'yp': 'java',\n",
    "    }\n",
    "language = languages['yp'].title()\n",
    "print(f'yp loves {language} most!')"
   ]
  },
  {
   "cell_type": "code",
   "execution_count": 15,
   "metadata": {},
   "outputs": [
    {
     "name": "stdout",
     "output_type": "stream",
     "text": [
      "None\n"
     ]
    }
   ],
   "source": [
    "# get function\n",
    "alien_0 = {'color': 'green', 'speed': 'slow'}  \n",
    "point_value = alien_0.get('points') \n",
    "print(point_value)"
   ]
  },
  {
   "cell_type": "markdown",
   "metadata": {},
   "source": [
    "# 6_2 Practice"
   ]
  },
  {
   "cell_type": "code",
   "execution_count": 16,
   "metadata": {},
   "outputs": [
    {
     "name": "stdout",
     "output_type": "stream",
     "text": [
      "xuezhen\n",
      "cai\n",
      "22\n",
      "HKUST(gz)\n",
      "guangzhou\n"
     ]
    }
   ],
   "source": [
    "#1\n",
    "cxz = {\n",
    "    'first_name': 'xuezhen',\n",
    "    'last_name': 'cai',\n",
    "    'age': 22,\n",
    "    'school': 'HKUST(gz)',\n",
    "    'city': 'guangzhou'\n",
    "    }\n",
    "print(cxz['first_name'])\n",
    "print(cxz['last_name'])\n",
    "print(cxz['age'])\n",
    "print(cxz['school'])\n",
    "print(cxz['city'])\n"
   ]
  },
  {
   "cell_type": "code",
   "execution_count": 1,
   "metadata": {},
   "outputs": [
    {
     "name": "stdout",
     "output_type": "stream",
     "text": [
      "cxz's favourite number is 2.\n",
      "zx's favourite number is 1.\n",
      "hyz's favourite number is 3.\n",
      "sjb's favourite number is 4.\n"
     ]
    }
   ],
   "source": [
    "#2\n",
    "numbers = {\n",
    "    'cxz': 2,\n",
    "    'zx': 1,\n",
    "    'hyz': 3,\n",
    "    'sjb': 4,\n",
    "    }\n",
    "print(f\"cxz's favourite number is {numbers['cxz']}.\")\n",
    "print(f\"zx's favourite number is {numbers['zx']}.\")\n",
    "print(f\"hyz's favourite number is {numbers['hyz']}.\")\n",
    "print(f\"sjb's favourite number is {numbers['sjb']}.\")"
   ]
  },
  {
   "cell_type": "code",
   "execution_count": 3,
   "metadata": {},
   "outputs": [
    {
     "name": "stdout",
     "output_type": "stream",
     "text": [
      "for's meaning is do to a circle\n"
     ]
    }
   ],
   "source": [
    "#3\n",
    "terms = {   \n",
    "    'for': 'do to a circle',\n",
    "    'if': 'to decide do or not',\n",
    "    'list': 'to store a lot of thing',\n",
    "    'turble': 'unchangable list',\n",
    "    'dic': 'key and value'\n",
    "    }\n",
    "print(f\"for's meaning is {terms['for']}\")"
   ]
  },
  {
   "cell_type": "code",
   "execution_count": null,
   "metadata": {},
   "outputs": [
    {
     "name": "stdout",
     "output_type": "stream",
     "text": [
      "For's meaning is 'Do To A Circle'.\n",
      "If's meaning is 'To Decide Do Or Not'.\n",
      "List's meaning is 'To Store A Lot Of Thing'.\n",
      "Turble's meaning is 'Unchangable List'.\n",
      "Dic's meaning is 'Key And Value'.\n"
     ]
    }
   ],
   "source": [
    "#4\n",
    "terms = {   \n",
    "    'for': 'do to a circle',\n",
    "    'if': 'to decide do or not',\n",
    "    'list': 'to store a lot of thing',\n",
    "    'turble': 'unchangable list',\n",
    "    'dic': 'key and value'\n",
    "    }\n",
    "for term, meaning in terms.items():\n",
    "    print(f\"{term.title()}'s meaning is '{meaning.title()}'.\")\n"
   ]
  },
  {
   "cell_type": "code",
   "execution_count": null,
   "metadata": {},
   "outputs": [
    {
     "name": "stdout",
     "output_type": "stream",
     "text": [
      "The Nile river run through Egypt.\n",
      "The Changjiang river run through China.\n",
      "The Missisipi river run through America.\n",
      "\n",
      "nile\n",
      "\n",
      "changjiang\n",
      "\n",
      "missisipi\n",
      "\n",
      "Egypt\n",
      "\n",
      "China\n",
      "\n",
      "America\n"
     ]
    }
   ],
   "source": [
    "#5\n",
    "rivers = {\n",
    "    'nile': 'Egypt',\n",
    "    'changjiang': 'China',\n",
    "    'missisipi': 'America', \n",
    "    }\n",
    "for river, nation in rivers.items():\n",
    "    print(f\"The {river.title()} river run through {nation}.\")\n",
    "for river in rivers.keys():\n",
    "    print(f\"\\n{river}\")\n",
    "for nation in rivers.values():\n",
    "    print(f\"\\n{nation.title()}\")"
   ]
  },
  {
   "cell_type": "code",
   "execution_count": 10,
   "metadata": {},
   "outputs": [
    {
     "name": "stdout",
     "output_type": "stream",
     "text": [
      "yp loves Java most!\n",
      "Thanks for your joining in our invest, Curry\n",
      "Can you do the survey for us, Zuoxin?\n",
      "Can you do the survey for us, Xuezhen?\n",
      "Thanks for your joining in our invest, Durant\n"
     ]
    }
   ],
   "source": [
    "#6\n",
    "# favorite language\n",
    "languages = {\n",
    "    'curry': 'python',\n",
    "    'durant': 'c',\n",
    "    'james': 'julia',\n",
    "    'yp': 'java',\n",
    "    }\n",
    "language = languages['yp'].title()\n",
    "print(f'yp loves {language} most!')\n",
    "list = ['curry', 'zuoxin', 'xuezhen', 'durant']\n",
    "for name in list:\n",
    "    if name in languages.keys():\n",
    "        print(f\"Thanks for your joining in our invest, {name.title()}\")\n",
    "    else:\n",
    "        print(f\"Can you do the survey for us, {name.title()}?\")"
   ]
  },
  {
   "cell_type": "code",
   "execution_count": 12,
   "metadata": {},
   "outputs": [
    {
     "name": "stdout",
     "output_type": "stream",
     "text": [
      "[{'first_name': 'xuezhen', 'last_name': 'cai', 'age': 22, 'school': 'HKUST(gz)', 'city': 'guangzhou'}, {'first_name': 'xin', 'last_name': 'zuo', 'age': 23, 'school': 'HKUST(gz)', 'city': 'hangzhou'}, {'first_name': 'yp', 'last_name': 'sun', 'age': 23, 'school': 'no school', 'city': 'beijing'}]\n",
      "Thera are 3 in the list\n"
     ]
    }
   ],
   "source": [
    "#7\n",
    "cxz = {\n",
    "    'first_name': 'xuezhen',\n",
    "    'last_name': 'cai',\n",
    "    'age': 22,\n",
    "    'school': 'HKUST(gz)',\n",
    "    'city': 'guangzhou'\n",
    "    }\n",
    "\n",
    "zuoxin = {\n",
    "    'first_name': 'xin',\n",
    "    'last_name': 'zuo',\n",
    "    'age': 23,\n",
    "    'school': 'HKUST(gz)',\n",
    "    'city': 'hangzhou'\n",
    "    }\n",
    "\n",
    "java = {\n",
    "    'first_name': 'yp',\n",
    "    'last_name': 'sun',\n",
    "    'age': 23,\n",
    "    'school': 'no school',\n",
    "    'city': 'beijing'\n",
    "    }\n",
    "people = [cxz, zuoxin, java]\n",
    "print(people)\n",
    "print(f\"Thera are {len(people)} in the list\")\n"
   ]
  },
  {
   "cell_type": "code",
   "execution_count": null,
   "metadata": {},
   "outputs": [
    {
     "name": "stdout",
     "output_type": "stream",
     "text": [
      "Xuezhen's favourite places are:\n",
      "\tBeijing\n",
      "\tShanghai\n",
      "Java's favourite place is Jinan\n",
      "Zuoxin's favourite places are:\n",
      "\tShanghai\n",
      "\tGuangzhou\n"
     ]
    }
   ],
   "source": [
    "#9\n",
    "favourite_places = {\n",
    "    'xuezhen': ['beijing', 'shanghai'],\n",
    "    'java': ['jinan'],\n",
    "    'zuoxin': ['shanghai', 'guangzhou']\n",
    "    }\n",
    "for name, places in favourite_places.items():\n",
    "    if len(places)==1:\n",
    "        print(f\"{name.title()}'s favourite place is {places[0].title()}.\")\n",
    "    else:\n",
    "        print(f\"{name.title()}'s favourite places are:\")\n",
    "        for place in places:\n",
    "            print(f\"\\t{place.title()}\")\n",
    "    "
   ]
  },
  {
   "cell_type": "code",
   "execution_count": 25,
   "metadata": {},
   "outputs": [
    {
     "name": "stdout",
     "output_type": "stream",
     "text": [
      "cxz's favourite number is:\n",
      "{2}\n",
      "{3}\n",
      "zx's favourite number is:\n",
      "{1}\n",
      "{5}\n",
      "hyz's favourite number is:\n",
      "{3}\n",
      "{4}\n",
      "{5}\n",
      "sjb's favourite number is 4.\n"
     ]
    }
   ],
   "source": [
    "#10\n",
    "numbers = {\n",
    "    'cxz': [2, 3],\n",
    "    'zx': [1, 5],\n",
    "    'hyz': [3, 4, 5],\n",
    "    'sjb': [4],\n",
    "    }\n",
    "for name, v in numbers.items():\n",
    "    if len(v)==1:\n",
    "        print(f\"{name}'s favourite number is {v[0]}.\")\n",
    "    else:\n",
    "        print(f\"{name}'s favourite number is:\")\n",
    "        for number in v:\n",
    "            print({number})"
   ]
  }
 ],
 "metadata": {
  "kernelspec": {
   "display_name": "base",
   "language": "python",
   "name": "python3"
  },
  "language_info": {
   "codemirror_mode": {
    "name": "ipython",
    "version": 3
   },
   "file_extension": ".py",
   "mimetype": "text/x-python",
   "name": "python",
   "nbconvert_exporter": "python",
   "pygments_lexer": "ipython3",
   "version": "3.12.2"
  }
 },
 "nbformat": 4,
 "nbformat_minor": 2
}

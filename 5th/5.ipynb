{
 "cells": [
  {
   "cell_type": "markdown",
   "metadata": {},
   "source": [
    "# 5--if语句"
   ]
  },
  {
   "cell_type": "markdown",
   "metadata": {},
   "source": [
    "## 5_1"
   ]
  },
  {
   "cell_type": "code",
   "execution_count": 2,
   "metadata": {},
   "outputs": [
    {
     "name": "stdout",
     "output_type": "stream",
     "text": [
      "Benz\n",
      "Audi\n",
      "Bmw\n",
      "Honda\n",
      "TOYOTA\n",
      "BENZ\n",
      "AUDI\n",
      "BMW\n",
      "HONDA\n",
      "Toyota\n"
     ]
    }
   ],
   "source": [
    "#cars.py\n",
    "cars = ['benz','audi','bmw','honda','toyota']\n",
    "for car in cars:\n",
    "    if car == 'toyota':\n",
    "        print(f\"{car.upper()}\")\n",
    "    else:\n",
    "        print(f\"{car.title()}\")\n",
    "\n",
    "cars = ['benz','audi','bmw','honda','toyota']\n",
    "for car in cars:\n",
    "    if car != 'toyota':\n",
    "        print(f\"{car.upper()}\")\n",
    "    else:\n",
    "        print(f\"{car.title()}\")"
   ]
  },
  {
   "cell_type": "code",
   "execution_count": 6,
   "metadata": {},
   "outputs": [
    {
     "name": "stdout",
     "output_type": "stream",
     "text": [
      "true\n",
      "false\n"
     ]
    }
   ],
   "source": [
    "# or and if\n",
    "age_0 = 18\n",
    "age_1 = 22\n",
    "if age_0<20 and age_1>=20:\n",
    "    print('true')\n",
    "else:\n",
    "    print('false')\n",
    "\n",
    "if age_0<10 or age_1>24:\n",
    "    print('true')\n",
    "else:\n",
    "    print('false')"
   ]
  },
  {
   "cell_type": "code",
   "execution_count": 9,
   "metadata": {},
   "outputs": [
    {
     "name": "stdout",
     "output_type": "stream",
     "text": [
      "no\n"
     ]
    }
   ],
   "source": [
    "#in or not\n",
    "cars = ['benz','audi','bmw','honda','toyota']\n",
    "if 'toyota' not in cars:\n",
    "    print(\"yes\")\n",
    "else:\n",
    "    print(\"no\")"
   ]
  },
  {
   "cell_type": "markdown",
   "metadata": {},
   "source": [
    "## 5_1 Practice"
   ]
  },
  {
   "cell_type": "code",
   "execution_count": null,
   "metadata": {},
   "outputs": [],
   "source": [
    "#1\n",
    "#over"
   ]
  },
  {
   "cell_type": "markdown",
   "metadata": {},
   "source": [
    "## 5_3"
   ]
  },
  {
   "cell_type": "code",
   "execution_count": 12,
   "metadata": {},
   "outputs": [
    {
     "name": "stdout",
     "output_type": "stream",
     "text": [
      "you are too young!\n"
     ]
    }
   ],
   "source": [
    "#age test\n",
    "age = 17\n",
    "if age>=18:\n",
    "    print(\"you are old enough to vote!\")\n",
    "else:\n",
    "    print(\"you are too young!\")"
   ]
  },
  {
   "cell_type": "code",
   "execution_count": 15,
   "metadata": {},
   "outputs": [
    {
     "name": "stdout",
     "output_type": "stream",
     "text": [
      "Hello, your admission cost is 20\n"
     ]
    }
   ],
   "source": [
    "#charge\n",
    "#age = 6\n",
    "#if age<=4:\n",
    "#    print(\"you are level1 so it's free for you!\")\n",
    "#elif age<18:\n",
    "#    print(\"you are level2 so it's 25 for you!\")\n",
    "#else:\n",
    "#    print(\"you are adult so it's 50 for you!\")\n",
    "age = 6\n",
    "if age<=4:\n",
    "    price = 0\n",
    "elif age<18:\n",
    "    price = 20\n",
    "else:\n",
    "    price = 40\n",
    "print(f\"Hello, your admission cost is {price}.\")"
   ]
  },
  {
   "cell_type": "markdown",
   "metadata": {},
   "source": [
    "## 5_3 Practice"
   ]
  },
  {
   "cell_type": "code",
   "execution_count": 17,
   "metadata": {},
   "outputs": [
    {
     "name": "stdout",
     "output_type": "stream",
     "text": [
      "You kill a green alien, so you get 5 points.\n",
      "You don't get any point.\n"
     ]
    }
   ],
   "source": [
    "#1\n",
    "alien_color = \"green\"\n",
    "if alien_color == \"green\":\n",
    "    print(\"You kill a green alien, so you get 5 points.\")\n",
    "else:\n",
    "    print(\"You don't get any point.\")    \n",
    "\n",
    "alien_color = \"red\"\n",
    "if alien_color == \"green\":\n",
    "    print(\"You kill a green alien, so you get 5 points.\")\n",
    "else:\n",
    "    print(\"You don't get any point.\")    "
   ]
  },
  {
   "cell_type": "code",
   "execution_count": 18,
   "metadata": {},
   "outputs": [
    {
     "name": "stdout",
     "output_type": "stream",
     "text": [
      "You are in the stage of Adult\n"
     ]
    }
   ],
   "source": [
    "#2\n",
    "age = 19\n",
    "if age<2:\n",
    "    stage = 'baby'\n",
    "elif age<4:\n",
    "    stage = 'big baby'\n",
    "elif age<13:\n",
    "    stage = 'child'\n",
    "elif age<18:\n",
    "    stage = 'teenager'\n",
    "elif age<65:\n",
    "    stage = 'adult'\n",
    "else:\n",
    "    stage = 'old man'\n",
    "print(f\"You are in the stage of {stage.title()}\")"
   ]
  },
  {
   "cell_type": "code",
   "execution_count": 20,
   "metadata": {},
   "outputs": [
    {
     "name": "stdout",
     "output_type": "stream",
     "text": [
      "I really like apple\n",
      "I really like banana\n"
     ]
    }
   ],
   "source": [
    "#3\n",
    "my_favorite_fruits = ['apple','banana','pineapple','grape','orange']\n",
    "if 'apple' in my_favorite_fruits:\n",
    "    print(f\"I really like apple\")\n",
    "if 'banana' in my_favorite_fruits:\n",
    "    print(f\"I really like banana\")\n",
    "if 'mango' in my_favorite_fruits:\n",
    "    print(f\"I really like mango\")    "
   ]
  },
  {
   "cell_type": "markdown",
   "metadata": {},
   "source": [
    "## 5_4 Practice"
   ]
  },
  {
   "cell_type": "code",
   "execution_count": 22,
   "metadata": {},
   "outputs": [
    {
     "name": "stdout",
     "output_type": "stream",
     "text": [
      "Hello Admin, would you like to see a status report?\n",
      "Hello Kobe, thank you for logging in again.\n",
      "Hello Curry, thank you for logging in again.\n",
      "Hello Durant, thank you for logging in again.\n",
      "Hello Zuoxin, thank you for logging in again.\n"
     ]
    }
   ],
   "source": [
    "#1\n",
    "users = ['admin','kobe','curry','durant','zuoxin']\n",
    "for user in users:\n",
    "    if user=='admin':\n",
    "        message = f\"Hello {user.title()}, would you like to see a status report?\"\n",
    "    else:\n",
    "        message = f\"Hello {user.title()}, thank you for logging in again.\"\n",
    "    print(message)"
   ]
  },
  {
   "cell_type": "code",
   "execution_count": 9,
   "metadata": {},
   "outputs": [
    {
     "name": "stdout",
     "output_type": "stream",
     "text": [
      "Hello Admin, would you like to see a status report?\n",
      "Hello Kobe, thank you for logging in again.\n",
      "Hello Curry, thank you for logging in again.\n",
      "Hello Durant, thank you for logging in again.\n",
      "Hello Zuoxin, thank you for logging in again.\n",
      "We need to find some users.\n"
     ]
    }
   ],
   "source": [
    "#2\n",
    "users = ['admin','kobe','curry','durant','zuoxin']\n",
    "for user in users:\n",
    "    if user=='admin':\n",
    "        message = f\"Hello {user.title()}, would you like to see a status report?\"\n",
    "    else:\n",
    "        message = f\"Hello {user.title()}, thank you for logging in again.\"\n",
    "    print(message)\n",
    "users.clear()\n",
    "\n",
    "# 检查是否为空\n",
    "if not users:\n",
    "    message = \"We need to find some users.\"\n",
    "print(message)"
   ]
  },
  {
   "cell_type": "code",
   "execution_count": null,
   "metadata": {},
   "outputs": [],
   "source": [
    "#3\n"
   ]
  }
 ],
 "metadata": {
  "kernelspec": {
   "display_name": "env",
   "language": "python",
   "name": "python3"
  },
  "language_info": {
   "codemirror_mode": {
    "name": "ipython",
    "version": 3
   },
   "file_extension": ".py",
   "mimetype": "text/x-python",
   "name": "python",
   "nbconvert_exporter": "python",
   "pygments_lexer": "ipython3",
   "version": "3.13.4"
  }
 },
 "nbformat": 4,
 "nbformat_minor": 2
}

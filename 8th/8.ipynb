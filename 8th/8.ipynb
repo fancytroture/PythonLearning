{
 "cells": [
  {
   "cell_type": "markdown",
   "metadata": {},
   "source": [
    "# 8_1 Function"
   ]
  },
  {
   "cell_type": "code",
   "execution_count": 4,
   "metadata": {},
   "outputs": [
    {
     "name": "stdout",
     "output_type": "stream",
     "text": [
      "Hello, Cxz\n"
     ]
    }
   ],
   "source": [
    "#greater\n",
    "def greeter(name):\n",
    "    print(f\"Hello, {name.title()}.\")\n",
    "\n",
    "greeter('cxz')"
   ]
  },
  {
   "cell_type": "markdown",
   "metadata": {},
   "source": [
    "# 8_1 practice"
   ]
  },
  {
   "cell_type": "code",
   "execution_count": 6,
   "metadata": {},
   "outputs": [
    {
     "name": "stdout",
     "output_type": "stream",
     "text": [
      "This chapter aim to define function\n"
     ]
    }
   ],
   "source": [
    "#1\n",
    "def display_message():\n",
    "    print(\"This chapter aim to define function.\")\n",
    "display_message()"
   ]
  },
  {
   "cell_type": "code",
   "execution_count": 7,
   "metadata": {},
   "outputs": [
    {
     "name": "stdout",
     "output_type": "stream",
     "text": [
      "My favourite book is Alice in Wonderland\n"
     ]
    }
   ],
   "source": [
    "#2\n",
    "def favourite_book(title):\n",
    "    print(f\"My favourite book is {title}.\")\n",
    "favourite_book('Alice in Wonderland')"
   ]
  }
 ],
 "metadata": {
  "kernelspec": {
   "display_name": "Python 3",
   "language": "python",
   "name": "python3"
  },
  "language_info": {
   "codemirror_mode": {
    "name": "ipython",
    "version": 3
   },
   "file_extension": ".py",
   "mimetype": "text/x-python",
   "name": "python",
   "nbconvert_exporter": "python",
   "pygments_lexer": "ipython3",
   "version": "3.13.4"
  }
 },
 "nbformat": 4,
 "nbformat_minor": 2
}

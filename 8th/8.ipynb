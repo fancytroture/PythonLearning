{
 "cells": [
  {
   "cell_type": "markdown",
   "metadata": {},
   "source": [
    "# 8_1 Function"
   ]
  },
  {
   "cell_type": "code",
   "execution_count": 4,
   "metadata": {},
   "outputs": [
    {
     "name": "stdout",
     "output_type": "stream",
     "text": [
      "Hello, Cxz\n"
     ]
    }
   ],
   "source": [
    "#greater\n",
    "def greeter(name):\n",
    "    print(f\"Hello, {name.title()}.\")\n",
    "\n",
    "greeter('cxz')"
   ]
  },
  {
   "cell_type": "markdown",
   "metadata": {},
   "source": [
    "# 8_1 practice"
   ]
  },
  {
   "cell_type": "code",
   "execution_count": 6,
   "metadata": {},
   "outputs": [
    {
     "name": "stdout",
     "output_type": "stream",
     "text": [
      "This chapter aim to define function\n"
     ]
    }
   ],
   "source": [
    "#1\n",
    "def display_message():\n",
    "    print(\"This chapter aim to define function.\")\n",
    "display_message()"
   ]
  },
  {
   "cell_type": "code",
   "execution_count": 7,
   "metadata": {},
   "outputs": [
    {
     "name": "stdout",
     "output_type": "stream",
     "text": [
      "My favourite book is Alice in Wonderland\n"
     ]
    }
   ],
   "source": [
    "#2\n",
    "def favourite_book(title):\n",
    "    print(f\"My favourite book is {title}.\")\n",
    "favourite_book('Alice in Wonderland')"
   ]
  },
  {
   "cell_type": "markdown",
   "metadata": {},
   "source": [
    "# 8_2 "
   ]
  },
  {
   "cell_type": "code",
   "execution_count": null,
   "metadata": {},
   "outputs": [
    {
     "name": "stdout",
     "output_type": "stream",
     "text": [
      "I have a cat\n",
      "It's name is bug\n"
     ]
    }
   ],
   "source": [
    "def pet_and_name(type, name):\n",
    "    print(f\"I have a {type}.\")\n",
    "    print(f\"It's name is {name}.\")\n",
    "\n",
    "pet_and_name('cat','bug')"
   ]
  },
  {
   "cell_type": "code",
   "execution_count": 2,
   "metadata": {},
   "outputs": [
    {
     "name": "stdout",
     "output_type": "stream",
     "text": [
      "I have a cat.\n",
      "It's name is bug.\n"
     ]
    }
   ],
   "source": [
    "def pet_and_name(type, name):\n",
    "    print(f\"I have a {type}.\")\n",
    "    print(f\"It's name is {name}.\")\n",
    "pet_and_name(name = 'bug', type = 'cat')"
   ]
  },
  {
   "cell_type": "code",
   "execution_count": 2,
   "metadata": {},
   "outputs": [
    {
     "name": "stdout",
     "output_type": "stream",
     "text": [
      "I have a dog.\n",
      "It's name is bug.\n"
     ]
    }
   ],
   "source": [
    "def pet_and_name(name, type = 'dog'):\n",
    "    print(f\"I have a {type}.\")\n",
    "    print(f\"It's name is {name}.\")\n",
    "pet_and_name(name = 'bug')"
   ]
  },
  {
   "cell_type": "markdown",
   "metadata": {},
   "source": [
    "# 8_2 practice"
   ]
  },
  {
   "cell_type": "code",
   "execution_count": 3,
   "metadata": {},
   "outputs": [
    {
     "name": "stdout",
     "output_type": "stream",
     "text": [
      "I need a size equals to 12 t-shirt with slogan: I love zuoxin\n"
     ]
    }
   ],
   "source": [
    "#8_3\n",
    "def t_shirt(slogan, size):\n",
    "    print(f\"I need a size equals to {size} t-shirt with slogan: {slogan}\")\n",
    "t_shirt(size = 12, slogan = 'I love zuoxin')"
   ]
  },
  {
   "cell_type": "code",
   "execution_count": null,
   "metadata": {},
   "outputs": [],
   "source": [
    "#8_4\n",
    "def t_shirt(slogan, size):\n",
    "    print(f\"I need a {size} t-shirt with slogan: {slogan}\")\n",
    "t_shirt(size = 'big', slogan = 'I love Python')\n",
    "t_shirt('I love Python', 'middle')\n",
    "t_shirt('I LOVE ZUOXIN', 'small')"
   ]
  }
 ],
 "metadata": {
  "kernelspec": {
   "display_name": "Python 3",
   "language": "python",
   "name": "python3"
  },
  "language_info": {
   "codemirror_mode": {
    "name": "ipython",
    "version": 3
   },
   "file_extension": ".py",
   "mimetype": "text/x-python",
   "name": "python",
   "nbconvert_exporter": "python",
   "pygments_lexer": "ipython3",
   "version": "3.13.4"
  }
 },
 "nbformat": 4,
 "nbformat_minor": 2
}

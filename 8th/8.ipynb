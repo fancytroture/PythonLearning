{
 "cells": [
  {
   "cell_type": "markdown",
   "metadata": {},
   "source": [
    "# 8_1 Function"
   ]
  },
  {
   "cell_type": "code",
   "execution_count": 4,
   "metadata": {},
   "outputs": [
    {
     "name": "stdout",
     "output_type": "stream",
     "text": [
      "Hello, Cxz\n"
     ]
    }
   ],
   "source": [
    "#greater\n",
    "def greeter(name):\n",
    "    print(f\"Hello, {name.title()}.\")\n",
    "\n",
    "greeter('cxz')"
   ]
  },
  {
   "cell_type": "markdown",
   "metadata": {},
   "source": [
    "# 8_1 practice"
   ]
  },
  {
   "cell_type": "code",
   "execution_count": 6,
   "metadata": {},
   "outputs": [
    {
     "name": "stdout",
     "output_type": "stream",
     "text": [
      "This chapter aim to define function\n"
     ]
    }
   ],
   "source": [
    "#1\n",
    "def display_message():\n",
    "    print(\"This chapter aim to define function.\")\n",
    "display_message()"
   ]
  },
  {
   "cell_type": "code",
   "execution_count": 7,
   "metadata": {},
   "outputs": [
    {
     "name": "stdout",
     "output_type": "stream",
     "text": [
      "My favourite book is Alice in Wonderland\n"
     ]
    }
   ],
   "source": [
    "#2\n",
    "def favourite_book(title):\n",
    "    print(f\"My favourite book is {title}.\")\n",
    "favourite_book('Alice in Wonderland')"
   ]
  },
  {
   "cell_type": "markdown",
   "metadata": {},
   "source": [
    "# 8_2 "
   ]
  },
  {
   "cell_type": "code",
   "execution_count": null,
   "metadata": {},
   "outputs": [
    {
     "name": "stdout",
     "output_type": "stream",
     "text": [
      "I have a cat\n",
      "It's name is bug\n"
     ]
    }
   ],
   "source": [
    "def pet_and_name(type, name):\n",
    "    print(f\"I have a {type}.\")\n",
    "    print(f\"It's name is {name}.\")\n",
    "\n",
    "pet_and_name('cat','bug')"
   ]
  },
  {
   "cell_type": "code",
   "execution_count": 2,
   "metadata": {},
   "outputs": [
    {
     "name": "stdout",
     "output_type": "stream",
     "text": [
      "I have a cat.\n",
      "It's name is bug.\n"
     ]
    }
   ],
   "source": [
    "def pet_and_name(type, name):\n",
    "    print(f\"I have a {type}.\")\n",
    "    print(f\"It's name is {name}.\")\n",
    "pet_and_name(name = 'bug', type = 'cat')"
   ]
  },
  {
   "cell_type": "code",
   "execution_count": 2,
   "metadata": {},
   "outputs": [
    {
     "name": "stdout",
     "output_type": "stream",
     "text": [
      "I have a dog.\n",
      "It's name is bug.\n"
     ]
    }
   ],
   "source": [
    "def pet_and_name(name, type = 'dog'):\n",
    "    print(f\"I have a {type}.\")\n",
    "    print(f\"It's name is {name}.\")\n",
    "pet_and_name(name = 'bug')"
   ]
  },
  {
   "cell_type": "markdown",
   "metadata": {},
   "source": [
    "# 8_2 practice"
   ]
  },
  {
   "cell_type": "code",
   "execution_count": 3,
   "metadata": {},
   "outputs": [
    {
     "name": "stdout",
     "output_type": "stream",
     "text": [
      "I need a size equals to 12 t-shirt with slogan: I love zuoxin\n"
     ]
    }
   ],
   "source": [
    "#8_3\n",
    "def t_shirt(slogan, size):\n",
    "    print(f\"I need a size equals to {size} t-shirt with slogan: {slogan}\")\n",
    "t_shirt(size = 12, slogan = 'I love zuoxin')"
   ]
  },
  {
   "cell_type": "code",
   "execution_count": 4,
   "metadata": {},
   "outputs": [
    {
     "name": "stdout",
     "output_type": "stream",
     "text": [
      "I need a big t-shirt with slogan: I love Python\n",
      "I need a middle t-shirt with slogan: I love Python\n",
      "I need a small t-shirt with slogan: I LOVE ZUOXIN\n"
     ]
    }
   ],
   "source": [
    "#8_4\n",
    "def t_shirt(slogan, size):\n",
    "    print(f\"I need a {size} t-shirt with slogan: {slogan}\")\n",
    "t_shirt(size = 'big', slogan = 'I love Python')\n",
    "t_shirt('I love Python', 'middle')\n",
    "t_shirt('I LOVE ZUOXIN', 'small')"
   ]
  },
  {
   "cell_type": "code",
   "execution_count": 1,
   "metadata": {},
   "outputs": [
    {
     "name": "stdout",
     "output_type": "stream",
     "text": [
      "Chongqing is in China\n",
      "Log Angeles is in Usa\n",
      "Tokyo is in Japan\n"
     ]
    }
   ],
   "source": [
    "#8_5\n",
    "def describe_city(city,country):\n",
    "    print(f\"{city.title()} is in {country.title()}\")\n",
    "describe_city('chongqing','china')\n",
    "describe_city('log angeles','USA')\n",
    "describe_city('tokyo','japan')"
   ]
  },
  {
   "cell_type": "markdown",
   "metadata": {},
   "source": [
    "# 8_3 返回值"
   ]
  },
  {
   "cell_type": "code",
   "execution_count": 2,
   "metadata": {},
   "outputs": [
    {
     "name": "stdout",
     "output_type": "stream",
     "text": [
      "Stephen Curry\n"
     ]
    }
   ],
   "source": [
    "#return\n",
    "def get_formatted_name(first_name, last_name):\n",
    "    full_name = f\"{first_name} {last_name}\"\n",
    "    return full_name.title()\n",
    "\n",
    "musician = get_formatted_name('stephen','curry')\n",
    "print(musician)"
   ]
  },
  {
   "cell_type": "code",
   "execution_count": 4,
   "metadata": {},
   "outputs": [
    {
     "name": "stdout",
     "output_type": "stream",
     "text": [
      "Stephen 3 Curry\n"
     ]
    }
   ],
   "source": [
    "#return\n",
    "def get_formatted_name(first_name, last_name, middle_name = ''):\n",
    "    if middle_name:\n",
    "        full_name = f\"{first_name} {middle_name} {last_name}\"\n",
    "    else:\n",
    "        full_name = f\"{first_name} {last_name}\"\n",
    "    return full_name.title()\n",
    "\n",
    "musician = get_formatted_name('stephen','curry', '3')\n",
    "print(musician)"
   ]
  },
  {
   "cell_type": "code",
   "execution_count": 5,
   "metadata": {},
   "outputs": [
    {
     "name": "stdout",
     "output_type": "stream",
     "text": [
      "{'first': 'Stephen', 'last': 'Curry'}\n"
     ]
    }
   ],
   "source": [
    "#return dictionary\n",
    "def bulid_person(first_name, last_name):\n",
    "    person = {'first': first_name, 'last': last_name}\n",
    "    return person\n",
    "musician = bulid_person('Stephen','Curry')\n",
    "print(musician)"
   ]
  },
  {
   "cell_type": "code",
   "execution_count": 7,
   "metadata": {},
   "outputs": [
    {
     "name": "stdout",
     "output_type": "stream",
     "text": [
      "Xuezhen Cai\n",
      "['Xuezhen Cai']\n"
     ]
    }
   ],
   "source": [
    "#using while\n",
    "def get_formatted_name(first_name, last_name):\n",
    "    full_name = f\"{first_name} {last_name}\"\n",
    "    return full_name.title()\n",
    "full_names = []\n",
    "flag = True\n",
    "while flag:\n",
    "    propmt = input(\"\\nCan you give me your name?(yes/no)\")\n",
    "    if propmt == 'yes':\n",
    "        first = input(\"Please tell me your first name:\")\n",
    "        last = input(\"Please tell me your last name:\")\n",
    "        full_name = get_formatted_name(first, last)\n",
    "        print(full_name)\n",
    "        full_names.append(full_name)\n",
    "    elif propmt == 'no':\n",
    "        flag = False\n",
    "    else:\n",
    "        print(\"Please enter yes or no.\")\n",
    "print(full_names)"
   ]
  },
  {
   "cell_type": "markdown",
   "metadata": {},
   "source": [
    "# 8_3 Practice"
   ]
  },
  {
   "cell_type": "code",
   "execution_count": 10,
   "metadata": {},
   "outputs": [
    {
     "name": "stdout",
     "output_type": "stream",
     "text": [
      "Chongqing, China\n"
     ]
    }
   ],
   "source": [
    "#8-6\n",
    "def city_and_country(city, country):\n",
    "    city_country = f\"{city.title()}, {country.title()}\"\n",
    "    return city_country\n",
    "sentence = city_and_country('chongqing', 'china')\n",
    "print(sentence)"
   ]
  },
  {
   "cell_type": "code",
   "execution_count": 15,
   "metadata": {},
   "outputs": [
    {
     "name": "stdout",
     "output_type": "stream",
     "text": [
      "{'singer': 'Eason', 'album': 'Fushushanxia'}\n",
      "{'singer': 'Eason', 'album': 'Fushushanxia', 'number': '3'}\n"
     ]
    }
   ],
   "source": [
    "#8-7\n",
    "def make_album(singer_name, album_name, song_number = None):\n",
    "    if song_number:\n",
    "        dic = {'singer': singer_name.title(), 'album': album_name.title(), 'number': song_number}\n",
    "    else:\n",
    "        dic = {'singer': singer_name.title(), 'album': album_name.title()}\n",
    "    return dic\n",
    "singer_and_album = make_album('eason', 'fushushanxia')\n",
    "print(singer_and_album)\n",
    "singer_and_album = make_album('eason', 'fushushanxia', '3')\n",
    "print(singer_and_album)"
   ]
  },
  {
   "cell_type": "code",
   "execution_count": 18,
   "metadata": {},
   "outputs": [
    {
     "name": "stdout",
     "output_type": "stream",
     "text": [
      "{'singer': 'Eason', 'album': 'Fushishanxia', 'number': '3'}\n",
      "{'singer': 'Jaychou', 'album': 'Yequ'}\n"
     ]
    }
   ],
   "source": [
    "#8-8\n",
    "def make_album(singer_name, album_name, song_number = None):\n",
    "    if song_number:\n",
    "        dic = {'singer': singer_name.title(), 'album': album_name.title(), 'number': song_number}\n",
    "    else:\n",
    "        dic = {'singer': singer_name.title(), 'album': album_name.title()}\n",
    "    return dic\n",
    "dic_list = []\n",
    "flag = True\n",
    "while flag:\n",
    "    propmt_1 = input(\"\\nDo you want to do this investment?(yes/no)\")\n",
    "    if propmt_1 == 'yes':\n",
    "        name = input(\"Please tell me the singer's name:\")\n",
    "        album = input(\"Please tell me the album's name:\")\n",
    "        propmt_2 = input(\"Do you know the number of song in this album?(yes/no)\")\n",
    "        if propmt_2 == 'yes':\n",
    "            number = input(\"The number is:\")\n",
    "        dic = make_album(name, album, number)\n",
    "        print(dic)\n",
    "        dic_list.append(dic)\n",
    "        number = None\n",
    "    elif propmt_1 == 'no':\n",
    "        flag = False\n",
    "    else:\n",
    "        print(\"Please tell me yes or no\")"
   ]
  },
  {
   "cell_type": "markdown",
   "metadata": {},
   "source": [
    "# 8_4"
   ]
  },
  {
   "cell_type": "code",
   "execution_count": 1,
   "metadata": {},
   "outputs": [
    {
     "name": "stdout",
     "output_type": "stream",
     "text": [
      "Hello,Cxz\n",
      "Hello,Zuoxin\n",
      "Hello,Curry\n"
     ]
    }
   ],
   "source": [
    "def greet_users(names):\n",
    "    for name in names:\n",
    "        print(f\"Hello,{name.title()}.\")\n",
    "users = ['cxz', 'zuoxin', 'curry']\n",
    "greet_users(users)"
   ]
  }
 ],
 "metadata": {
  "kernelspec": {
   "display_name": "Python 3",
   "language": "python",
   "name": "python3"
  },
  "language_info": {
   "codemirror_mode": {
    "name": "ipython",
    "version": 3
   },
   "file_extension": ".py",
   "mimetype": "text/x-python",
   "name": "python",
   "nbconvert_exporter": "python",
   "pygments_lexer": "ipython3",
   "version": "3.13.4"
  }
 },
 "nbformat": 4,
 "nbformat_minor": 2
}

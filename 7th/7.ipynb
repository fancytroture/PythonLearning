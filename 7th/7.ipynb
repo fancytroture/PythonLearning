{
 "cells": [
  {
   "cell_type": "markdown",
   "id": "0d1cfa3b",
   "metadata": {},
   "source": [
    "# 7_1 input"
   ]
  },
  {
   "cell_type": "code",
   "execution_count": null,
   "id": "bb4477df",
   "metadata": {},
   "outputs": [],
   "source": [
    "message = input(\"Tell me something, and I will repeat it back to you:\")\n",
    "print(message)"
   ]
  },
  {
   "cell_type": "code",
   "execution_count": null,
   "id": "e979b6cf",
   "metadata": {},
   "outputs": [],
   "source": [
    "#name \n",
    "name = input(\"Please tell me your name:\")\n",
    "print(f\"my name is {name.title()}\")"
   ]
  },
  {
   "cell_type": "code",
   "execution_count": null,
   "id": "3ab35eea",
   "metadata": {},
   "outputs": [],
   "source": [
    "prompt = \"If you share your name, we can personalize the messages you see.\" \n",
    "prompt += \"\\nWhat is your first name? \"\n",
    "name = input(prompt)\n",
    "print(f\"\\nMy name is {name.title()}\")"
   ]
  },
  {
   "cell_type": "code",
   "execution_count": null,
   "id": "2e81489a",
   "metadata": {},
   "outputs": [],
   "source": [
    "#age\n",
    "age = input(\"How old are you\")\n",
    "print(age)\n",
    "age = int(age)\n",
    "if age>=18:\n",
    "    print(f\"Your age is {age}\")"
   ]
  },
  {
   "cell_type": "code",
   "execution_count": null,
   "id": "23ca6769",
   "metadata": {},
   "outputs": [],
   "source": [
    "#guoshanche\n",
    "height = int(input(\"How tall are you?\"))\n",
    "if height >=150:\n",
    "    print(\"You are high enough.\")\n",
    "else:\n",
    "    print(\"You are not high enough.\")"
   ]
  },
  {
   "cell_type": "code",
   "execution_count": null,
   "id": "288c928c",
   "metadata": {},
   "outputs": [],
   "source": [
    "number = int(input(\"You can enter a number then I can tell you it is even or odd.\"))\n",
    "if number % 2 == 0:\n",
    "    print(f\"{number} is even.\")\n",
    "else:\n",
    "    print(f\"{number} is odd.\")"
   ]
  },
  {
   "cell_type": "markdown",
   "id": "7a703af2",
   "metadata": {},
   "source": [
    "# 7_1 practice"
   ]
  },
  {
   "cell_type": "code",
   "execution_count": null,
   "id": "ad076abd",
   "metadata": {},
   "outputs": [],
   "source": [
    "#7.1\n",
    "car = input(\"What car you want?\")\n",
    "print(f\"Let me see if I can find you a {car.title()}.\")"
   ]
  },
  {
   "cell_type": "code",
   "execution_count": null,
   "id": "42ff74fc",
   "metadata": {},
   "outputs": [],
   "source": [
    "#7.2\n",
    "number = int(input(\"How many people you have?\"))\n",
    "if number > 8:\n",
    "    print(\"We have no empty table.\")\n",
    "else:\n",
    "    print(\"We have table for you.\")"
   ]
  },
  {
   "cell_type": "code",
   "execution_count": null,
   "id": "8987e5c0",
   "metadata": {},
   "outputs": [],
   "source": [
    "#7.3\n",
    "ten_times = int(input(\"You can enter a number then I can judge it is a 10-times number.\"))\n",
    "if ten_times % 10 == 0:\n",
    "    print(f\"{ten_times} is a ten-times number.\")\n",
    "else:\n",
    "    print(f\"{ten_times} is not 10 times\")    "
   ]
  },
  {
   "cell_type": "markdown",
   "id": "99385fd9",
   "metadata": {},
   "source": [
    "# 7_2 while"
   ]
  },
  {
   "cell_type": "code",
   "execution_count": null,
   "id": "b078dbb6",
   "metadata": {},
   "outputs": [],
   "source": [
    "#counting.py\n",
    "number = 1\n",
    "while number <= 5:\n",
    "    print(number)\n",
    "    number = number + 1"
   ]
  },
  {
   "cell_type": "code",
   "execution_count": null,
   "id": "681a7cdd",
   "metadata": {},
   "outputs": [],
   "source": [
    "#input and back\n",
    "prompt = '\\nTell me what you want and I will give you back'\n",
    "prompt += '\\n Press quit to end this program'\n",
    "message = ''\n",
    "\n",
    "while message != 'quit':\n",
    "    message = input(prompt)\n",
    "    if message != 'quit':\n",
    "        print(message)\n"
   ]
  },
  {
   "cell_type": "code",
   "execution_count": null,
   "id": "c6d53aea",
   "metadata": {},
   "outputs": [],
   "source": [
    "prompt = \"\\nI would like to ask you your favourite cities.\"\n",
    "prompt += \"\\n(Enter 'quit' to end the program)\"\n",
    "cities = []\n",
    "\n",
    "while True:\n",
    "    city = input(prompt).lower() \n",
    "    if city == 'quit':\n",
    "        break\n",
    "    elif city in cities:\n",
    "        print(f\"You have mentioned {city.title()}.\")\n",
    "    else:\n",
    "        cities.append(city)\n",
    "        print(f\"{city.title()}\")"
   ]
  },
  {
   "cell_type": "code",
   "execution_count": null,
   "id": "fa75e079",
   "metadata": {},
   "outputs": [],
   "source": [
    "#counting even\n",
    "number = 0\n",
    "while number < 10:\n",
    "    number = number + 1\n",
    "    if number % 2 == 0:\n",
    "        continue\n",
    "    else:\n",
    "        print(number)"
   ]
  },
  {
   "cell_type": "markdown",
   "id": "2ffd2157",
   "metadata": {},
   "source": [
    "# 7_2 practice"
   ]
  },
  {
   "cell_type": "code",
   "execution_count": null,
   "id": "291e719a",
   "metadata": {},
   "outputs": [],
   "source": [
    "#4\n",
    "prompt = \"\\nPlease tell me what you want?\"\n",
    "prompt += \"\\n(Enter 'quit' if you finish)\"\n",
    "\n",
    "while True:\n",
    "    message = input(prompt)\n",
    "    if message == 'quit':\n",
    "        break\n",
    "    else:\n",
    "        print(message)"
   ]
  },
  {
   "cell_type": "code",
   "execution_count": null,
   "id": "4ccfe8ff",
   "metadata": {},
   "outputs": [],
   "source": [
    "#5\n",
    "prompt = \"\\nHow old are you?\"\n",
    "while True:\n",
    "    message = input(prompt)\n",
    "    if message == 'quit':\n",
    "        break\n",
    "    elif int(message) < 3:\n",
    "        fee = 0\n",
    "    elif 3 <= int(message) <= 12:\n",
    "        fee = 10\n",
    "    else:\n",
    "        fee = 15\n",
    "    print(f\"You need to pay {fee}\")"
   ]
  },
  {
   "cell_type": "code",
   "execution_count": null,
   "id": "70c74712",
   "metadata": {},
   "outputs": [],
   "source": []
  }
 ],
 "metadata": {
  "kernelspec": {
   "display_name": "base",
   "language": "python",
   "name": "python3"
  },
  "language_info": {
   "codemirror_mode": {
    "name": "ipython",
    "version": 3
   },
   "file_extension": ".py",
   "mimetype": "text/x-python",
   "name": "python",
   "nbconvert_exporter": "python",
   "pygments_lexer": "ipython3",
   "version": "3.12.2"
  }
 },
 "nbformat": 4,
 "nbformat_minor": 5
}

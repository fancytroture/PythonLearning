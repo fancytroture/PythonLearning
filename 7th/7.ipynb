{
 "cells": [
  {
   "cell_type": "markdown",
   "id": "0d1cfa3b",
   "metadata": {},
   "source": [
    "# 7_1 input"
   ]
  },
  {
   "cell_type": "code",
   "execution_count": null,
   "id": "bb4477df",
   "metadata": {},
   "outputs": [],
   "source": [
    "message = input(\"Tell me something, and I will repeat it back to you:\")\n",
    "print(message)"
   ]
  },
  {
   "cell_type": "code",
   "execution_count": null,
   "id": "e979b6cf",
   "metadata": {},
   "outputs": [],
   "source": [
    "#name \n",
    "name = input(\"Please tell me your name:\")\n",
    "print(f\"my name is {name.title()}\")"
   ]
  },
  {
   "cell_type": "code",
   "execution_count": null,
   "id": "3ab35eea",
   "metadata": {},
   "outputs": [],
   "source": [
    "prompt = \"If you share your name, we can personalize the messages you see.\" \n",
    "prompt += \"\\nWhat is your first name? \"\n",
    "name = input(prompt)\n",
    "print(f\"\\nMy name is {name.title()}\")"
   ]
  },
  {
   "cell_type": "code",
   "execution_count": null,
   "id": "2e81489a",
   "metadata": {},
   "outputs": [],
   "source": [
    "#age\n",
    "age = input(\"How old are you\")\n",
    "print(age)\n",
    "age = int(age)\n",
    "if age>=18:\n",
    "    print(f\"Your age is {age}\")"
   ]
  },
  {
   "cell_type": "code",
   "execution_count": null,
   "id": "23ca6769",
   "metadata": {},
   "outputs": [],
   "source": [
    "#guoshanche\n",
    "height = int(input(\"How tall are you?\"))\n",
    "if height >=150:\n",
    "    print(\"You are high enough.\")\n",
    "else:\n",
    "    print(\"You are not high enough.\")"
   ]
  },
  {
   "cell_type": "code",
   "execution_count": null,
   "id": "288c928c",
   "metadata": {},
   "outputs": [],
   "source": [
    "number = int(input(\"You can enter a number then I can tell you it is even or odd.\"))\n",
    "if number % 2 == 0:\n",
    "    print(f\"{number} is even.\")\n",
    "else:\n",
    "    print(f\"{number} is odd.\")"
   ]
  },
  {
   "cell_type": "markdown",
   "id": "7a703af2",
   "metadata": {},
   "source": [
    "# 7_1 practice"
   ]
  },
  {
   "cell_type": "code",
   "execution_count": null,
   "id": "ad076abd",
   "metadata": {},
   "outputs": [],
   "source": [
    "#7.1\n",
    "car = input(\"What car you want?\")\n",
    "print(f\"Let me see if I can find you a {car.title()}.\")"
   ]
  },
  {
   "cell_type": "code",
   "execution_count": null,
   "id": "42ff74fc",
   "metadata": {},
   "outputs": [],
   "source": [
    "#7.2\n",
    "number = int(input(\"How many people you have?\"))\n",
    "if number > 8:\n",
    "    print(\"We have no empty table.\")\n",
    "else:\n",
    "    print(\"We have table for you.\")"
   ]
  },
  {
   "cell_type": "code",
   "execution_count": null,
   "id": "8987e5c0",
   "metadata": {},
   "outputs": [],
   "source": [
    "#7.3\n",
    "ten_times = int(input(\"You can enter a number then I can judge it is a 10-times number.\"))\n",
    "if ten_times % 10 == 0:\n",
    "    print(f\"{ten_times} is a ten-times number.\")\n",
    "else:\n",
    "    print(f\"{ten_times} is not 10 times\")    "
   ]
  },
  {
   "cell_type": "markdown",
   "id": "99385fd9",
   "metadata": {},
   "source": [
    "# 7_2 while"
   ]
  },
  {
   "cell_type": "code",
   "execution_count": null,
   "id": "b078dbb6",
   "metadata": {},
   "outputs": [],
   "source": [
    "#counting.py\n",
    "number = 1\n",
    "while number <= 5:\n",
    "    print(number)\n",
    "    number = number + 1"
   ]
  },
  {
   "cell_type": "code",
   "execution_count": null,
   "id": "681a7cdd",
   "metadata": {},
   "outputs": [],
   "source": [
    "#input and back\n",
    "prompt = '\\nTell me what you want and I will give you back'\n",
    "prompt += '\\n Press quit to end this program'\n",
    "message = ''\n",
    "\n",
    "while message != 'quit':\n",
    "    message = input(prompt)\n",
    "    if message != 'quit':\n",
    "        print(message)\n"
   ]
  },
  {
   "cell_type": "code",
   "execution_count": null,
   "id": "c6d53aea",
   "metadata": {},
   "outputs": [],
   "source": [
    "prompt = \"\\nI would like to ask you your favourite cities.\"\n",
    "prompt += \"\\n(Enter 'quit' to end the program)\"\n",
    "cities = []\n",
    "\n",
    "while True:\n",
    "    city = input(prompt).lower() \n",
    "    if city == 'quit':\n",
    "        break\n",
    "    elif city in cities:\n",
    "        print(f\"You have mentioned {city.title()}.\")\n",
    "    else:\n",
    "        cities.append(city)\n",
    "        print(f\"{city.title()}\")"
   ]
  },
  {
   "cell_type": "code",
   "execution_count": null,
   "id": "fa75e079",
   "metadata": {},
   "outputs": [],
   "source": [
    "#counting even\n",
    "number = 0\n",
    "while number < 10:\n",
    "    number = number + 1\n",
    "    if number % 2 == 0:\n",
    "        continue\n",
    "    else:\n",
    "        print(number)"
   ]
  },
  {
   "cell_type": "markdown",
   "id": "2ffd2157",
   "metadata": {},
   "source": [
    "# 7_2 practice"
   ]
  },
  {
   "cell_type": "code",
   "execution_count": null,
   "id": "291e719a",
   "metadata": {},
   "outputs": [],
   "source": [
    "#4\n",
    "prompt = \"\\nPlease tell me what you want?\"\n",
    "prompt += \"\\n(Enter 'quit' if you finish)\"\n",
    "\n",
    "while True:\n",
    "    message = input(prompt)\n",
    "    if message == 'quit':\n",
    "        break\n",
    "    else:\n",
    "        print(message)"
   ]
  },
  {
   "cell_type": "code",
   "execution_count": 2,
   "id": "4ccfe8ff",
   "metadata": {},
   "outputs": [],
   "source": [
    "#5\n",
    "prompt = \"\\nHow old are you?\"\n",
    "while True:\n",
    "    message = input(prompt)\n",
    "    if message == 'quit':\n",
    "        break\n",
    "    elif int(message) < 3:\n",
    "        fee = 0\n",
    "    elif 3 <= int(message) <= 12:\n",
    "        fee = 10\n",
    "    else:\n",
    "        fee = 15\n",
    "    print(f\"You need to pay {fee}\")"
   ]
  },
  {
   "cell_type": "markdown",
   "id": "35322260",
   "metadata": {},
   "source": [
    "# 7_3"
   ]
  },
  {
   "cell_type": "code",
   "execution_count": 4,
   "id": "70c74712",
   "metadata": {},
   "outputs": [
    {
     "name": "stdout",
     "output_type": "stream",
     "text": [
      "Now I am dealing with hyz.\n",
      "Now I am dealing with zx.\n",
      "Now I am dealing with cxz.\n",
      "\n",
      "Now the following users have been verified:\n",
      "hyz\n",
      "zx\n",
      "cxz\n"
     ]
    }
   ],
   "source": [
    "#confirmed_users.py\n",
    "unconfirmedusers = ['cxz', 'zx', 'hyz']\n",
    "confirmedusers = []\n",
    "while unconfirmedusers:\n",
    "    currentuser = unconfirmedusers.pop()\n",
    "    print(f\"Now I am dealing with {currentuser}.\")\n",
    "    confirmedusers.append(currentuser)\n",
    "print(\"\\nNow the following users have been verified:\")\n",
    "for i in confirmedusers:\n",
    "    print(f\"{i}\")"
   ]
  },
  {
   "cell_type": "markdown",
   "id": "14624022",
   "metadata": {},
   "source": [
    "# 7_3 practice"
   ]
  },
  {
   "cell_type": "code",
   "execution_count": 7,
   "id": "2531d055",
   "metadata": {},
   "outputs": [
    {
     "name": "stdout",
     "output_type": "stream",
     "text": [
      "I made your pork sandwich.\n",
      "I made your beef sandwich.\n",
      "I made your fish sandwich.\n",
      "I made your tuna sandwich.\n",
      "\n",
      "I have made these sandwiched\n",
      "pork sandwich\n",
      "beef sandwich\n",
      "fish sandwich\n",
      "tuna sandwich\n"
     ]
    }
   ],
   "source": [
    "#8\n",
    "sandwich_orders = ['tuna', 'fish', 'pastrami', 'beef', 'pastrami', 'pork', 'pastrami']\n",
    "finished_sandwichs = []\n",
    "while sandwich_orders:\n",
    "    sandwich_making = sandwich_orders.pop()\n",
    "    print(f\"I made your {sandwich_making} sandwich.\")\n",
    "    finished_sandwichs.append(sandwich_making)\n",
    "print(\"\\nI have made these sandwiched\")\n",
    "for i in finished_sandwichs:\n",
    "    print(f\"{i} sandwich\")"
   ]
  },
  {
   "cell_type": "code",
   "execution_count": 8,
   "id": "e34ea9f7",
   "metadata": {},
   "outputs": [
    {
     "name": "stdout",
     "output_type": "stream",
     "text": [
      "['tuna', 'fish', 'beef', 'pork']\n"
     ]
    }
   ],
   "source": [
    "#9\n",
    "sandwich_orders = ['tuna', 'fish', 'pastrami', 'beef', 'pastrami', 'pork', 'pastrami']\n",
    "existing_sandwiches = []\n",
    "while 'pastrami' in sandwich_orders:\n",
    "    sandwich_orders.remove('pastrami')\n",
    "existing_sandwiches = sandwich_orders\n",
    "print(existing_sandwiches)"
   ]
  },
  {
   "cell_type": "code",
   "execution_count": null,
   "id": "e27c9541",
   "metadata": {},
   "outputs": [
    {
     "name": "stdout",
     "output_type": "stream",
     "text": [
      "\n",
      "Here are the results of investment.\n",
      "Cxz's dream holiday destination is beijing.\n"
     ]
    }
   ],
   "source": [
    "#10\n",
    "holiday_des = {}\n",
    "flag = True\n",
    "while flag:\n",
    "    name = input(\"\\nHello, What's your name please?\")\n",
    "    des = input(\"If you could visit one place in the world, where would you go?\")\n",
    "    holiday_des[name] = des\n",
    "    continue_or_not = input(\"Do you continue to do this investmant?(yes/no)\")\n",
    "    if continue_or_not == 'no':\n",
    "        flag = False\n",
    "        print(\"\\nHere are the results of investment:\")\n",
    "for name,des in holiday_des.items():\n",
    "    print(f\"{name.title()}'s dream holiday destination is {des.title()}.\")"
   ]
  }
 ],
 "metadata": {
  "kernelspec": {
   "display_name": "Python 3",
   "language": "python",
   "name": "python3"
  },
  "language_info": {
   "codemirror_mode": {
    "name": "ipython",
    "version": 3
   },
   "file_extension": ".py",
   "mimetype": "text/x-python",
   "name": "python",
   "nbconvert_exporter": "python",
   "pygments_lexer": "ipython3",
   "version": "3.13.4"
  }
 },
 "nbformat": 4,
 "nbformat_minor": 5
}

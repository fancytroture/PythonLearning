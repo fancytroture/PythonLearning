{
 "cells": [
  {
   "cell_type": "markdown",
   "id": "0d1cfa3b",
   "metadata": {},
   "source": [
    "# 7_1 input"
   ]
  },
  {
   "cell_type": "code",
   "execution_count": 1,
   "id": "bb4477df",
   "metadata": {},
   "outputs": [
    {
     "name": "stdout",
     "output_type": "stream",
     "text": [
      "1\n"
     ]
    }
   ],
   "source": [
    "message = input(\"Tell me something, and I will repeat it back to you:\")\n",
    "print(message)"
   ]
  },
  {
   "cell_type": "code",
   "execution_count": 3,
   "id": "e979b6cf",
   "metadata": {},
   "outputs": [
    {
     "name": "stdout",
     "output_type": "stream",
     "text": [
      "my name is Caixuezhen\n"
     ]
    }
   ],
   "source": [
    "#name \n",
    "name = input(\"Please tell me your name:\")\n",
    "print(f\"my name is {name.title()}\")"
   ]
  },
  {
   "cell_type": "code",
   "execution_count": 4,
   "id": "3ab35eea",
   "metadata": {},
   "outputs": [
    {
     "name": "stdout",
     "output_type": "stream",
     "text": [
      "\n",
      "My name is Xcai\n"
     ]
    }
   ],
   "source": [
    "prompt = \"If you share your name, we can personalize the messages you see.\" \n",
    "prompt += \"\\nWhat is your first name? \"\n",
    "name = input(prompt)\n",
    "print(f\"\\nMy name is {name.title()}\")"
   ]
  },
  {
   "cell_type": "code",
   "execution_count": 8,
   "id": "2e81489a",
   "metadata": {},
   "outputs": [
    {
     "name": "stdout",
     "output_type": "stream",
     "text": [
      "21\n",
      "Your age is 21\n"
     ]
    }
   ],
   "source": [
    "#age\n",
    "age = input(\"How old are you\")\n",
    "print(age)\n",
    "age = int(age)\n",
    "if age>=18:\n",
    "    print(f\"Your age is {age}\")"
   ]
  },
  {
   "cell_type": "code",
   "execution_count": 10,
   "id": "23ca6769",
   "metadata": {},
   "outputs": [
    {
     "name": "stdout",
     "output_type": "stream",
     "text": [
      "You are not high enough.\n"
     ]
    }
   ],
   "source": [
    "#guoshanche\n",
    "height = int(input(\"How tall are you?\"))\n",
    "if height >=150:\n",
    "    print(\"You are high enough.\")\n",
    "else:\n",
    "    print(\"You are not high enough.\")"
   ]
  },
  {
   "cell_type": "code",
   "execution_count": 12,
   "id": "288c928c",
   "metadata": {},
   "outputs": [
    {
     "name": "stdout",
     "output_type": "stream",
     "text": [
      "11 is odd.\n"
     ]
    }
   ],
   "source": [
    "number = int(input(\"You can enter a number then I can tell you it is even or odd.\"))\n",
    "if number % 2 == 0:\n",
    "    print(f\"{number} is even.\")\n",
    "else:\n",
    "    print(f\"{number} is odd.\")"
   ]
  },
  {
   "cell_type": "markdown",
   "id": "7a703af2",
   "metadata": {},
   "source": [
    "# 7_1 practice"
   ]
  },
  {
   "cell_type": "code",
   "execution_count": null,
   "id": "ad076abd",
   "metadata": {},
   "outputs": [
    {
     "name": "stdout",
     "output_type": "stream",
     "text": [
      "Let me see if I can find you a toyota\n"
     ]
    }
   ],
   "source": [
    "#7.1\n",
    "car = input(\"What car you want?\")\n",
    "print(f\"Let me see if I can find you a {car.title()}.\")"
   ]
  },
  {
   "cell_type": "code",
   "execution_count": 15,
   "id": "42ff74fc",
   "metadata": {},
   "outputs": [
    {
     "name": "stdout",
     "output_type": "stream",
     "text": [
      "We have table for you.\n"
     ]
    }
   ],
   "source": [
    "#7.2\n",
    "number = int(input(\"How many people you have?\"))\n",
    "if number > 8:\n",
    "    print(\"We have no empty table.\")\n",
    "else:\n",
    "    print(\"We have table for you.\")"
   ]
  },
  {
   "cell_type": "code",
   "execution_count": 17,
   "id": "8987e5c0",
   "metadata": {},
   "outputs": [
    {
     "name": "stdout",
     "output_type": "stream",
     "text": [
      "100 is a ten-times number.\n"
     ]
    }
   ],
   "source": [
    "#7.3\n",
    "ten_times = int(input(\"You can enter a number then I can judge it is a 10-times number.\"))\n",
    "if ten_times % 10 == 0:\n",
    "    print(f\"{ten_times} is a ten-times number.\")\n",
    "else:\n",
    "    print(f\"{ten_times} is not 10 times\")    "
   ]
  }
 ],
 "metadata": {
  "kernelspec": {
   "display_name": "base",
   "language": "python",
   "name": "python3"
  },
  "language_info": {
   "codemirror_mode": {
    "name": "ipython",
    "version": 3
   },
   "file_extension": ".py",
   "mimetype": "text/x-python",
   "name": "python",
   "nbconvert_exporter": "python",
   "pygments_lexer": "ipython3",
   "version": "3.12.2"
  }
 },
 "nbformat": 4,
 "nbformat_minor": 5
}
